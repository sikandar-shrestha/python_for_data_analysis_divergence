{
 "cells": [
  {
   "cell_type": "markdown",
   "id": "686654b2-bc7d-4967-a306-72a0c0593ec4",
   "metadata": {},
   "source": [
    "## Project 5-1: Get different types of data\n",
    "\n",
    "## Tasks\n",
    "1. Download the CSV file at this link and read the data into a DataFrame:\n",
    "   https://raw.githubusercontent.com/fivethirtyeight/data/master/thanksgiving-2015/thanksgiving-2015-poll-data.csv\n",
    "2. Download the Stata file at this link and read the data into a DataFrame:\n",
    "   http://www.stata-press.com/data/r8/cancer.dta\n",
    "3. Download the CSV file at this link and load the data into a DataFrame. You’ll need to create a Kaggle account if you do not already have one. https://www.kaggle.com/kaggle/sf-salaries\n",
    "4. Search Kaggle for something that you are interested in to see if there is any data for that interest. If there is, download that dataset and load it into a DataFrame. If not, just download one of the trending datasets in the trending section as shown below:"
   ]
  },
  {
   "cell_type": "code",
   "execution_count": null,
   "id": "d6715dd1-8c41-4795-9997-ed6c282af1d7",
   "metadata": {
    "tags": []
   },
   "outputs": [],
   "source": [
    "import warnings\n",
    "warnings.filterwarnings(\"ignore\")\n",
    "\n",
    "import pandas as pd"
   ]
  },
  {
   "cell_type": "markdown",
   "id": "b8433bf3-dbec-47e7-b787-3ef7cef23392",
   "metadata": {},
   "source": [
    "## Task 1:\n"
   ]
  },
  {
   "cell_type": "code",
   "execution_count": null,
   "id": "2acdfc74-7b21-440a-9aea-c5db23bb86b2",
   "metadata": {
    "tags": []
   },
   "outputs": [],
   "source": [
    "url_csv=\"https://raw.githubusercontent.com/fivethirtyeight/data/master/thanksgiving-2015/thanksgiving-2015-poll-data.csv \""
   ]
  },
  {
   "cell_type": "code",
   "execution_count": null,
   "id": "7b50209c-64d2-4bca-8dab-a61920822df1",
   "metadata": {
    "tags": []
   },
   "outputs": [],
   "source": [
    "df_csv=pd.read_csv(url_csv)\n",
    "df_csv.head(3)"
   ]
  },
  {
   "cell_type": "markdown",
   "id": "e0c81b31-9cc1-4c64-8885-7cea964a094f",
   "metadata": {},
   "source": [
    "## Task2:"
   ]
  },
  {
   "cell_type": "code",
   "execution_count": null,
   "id": "e21759d8-71fd-4aed-9632-e4ca3cf3a736",
   "metadata": {
    "tags": []
   },
   "outputs": [],
   "source": [
    "# URL of the Stata file\n",
    "url_stata = \"https://www.stata-press.com/data/r8/cancer.dta\"\n",
    "\n",
    "# Read the Stata file into a DataFrame\n",
    "df = pd.read_stata(url_stata)\n",
    "df.head(3)\n"
   ]
  },
  {
   "cell_type": "code",
   "execution_count": null,
   "id": "e0c017da-e69b-4e4a-b9da-4226f9e64563",
   "metadata": {},
   "outputs": [],
   "source": []
  },
  {
   "cell_type": "code",
   "execution_count": null,
   "id": "04e60fe9-7efa-4281-a17f-120466a12390",
   "metadata": {},
   "outputs": [],
   "source": []
  },
  {
   "cell_type": "code",
   "execution_count": null,
   "id": "910548ff-1ce2-4024-870c-277bb8ec5350",
   "metadata": {},
   "outputs": [],
   "source": []
  },
  {
   "cell_type": "code",
   "execution_count": null,
   "id": "3cf4db5c-3850-4b99-a9eb-0c94da05fb49",
   "metadata": {},
   "outputs": [],
   "source": []
  },
  {
   "cell_type": "code",
   "execution_count": null,
   "id": "d2ba6ac7-1e90-467c-8a88-8968c45c3df8",
   "metadata": {},
   "outputs": [],
   "source": []
  },
  {
   "cell_type": "code",
   "execution_count": null,
   "id": "d9c7ff98-4eb4-433e-9a9e-421a110032d6",
   "metadata": {},
   "outputs": [],
   "source": []
  },
  {
   "cell_type": "code",
   "execution_count": null,
   "id": "b984c443-d8dd-44da-a0ec-6edcfa62d523",
   "metadata": {},
   "outputs": [],
   "source": []
  },
  {
   "cell_type": "code",
   "execution_count": null,
   "id": "c7783f3a-3609-487c-8ebd-4f9bd98704ba",
   "metadata": {},
   "outputs": [],
   "source": []
  },
  {
   "cell_type": "code",
   "execution_count": null,
   "id": "562cc253-9e6e-4dcd-911a-5aeb79031a07",
   "metadata": {},
   "outputs": [],
   "source": []
  },
  {
   "cell_type": "code",
   "execution_count": null,
   "id": "f295c704-6463-4143-b050-568c09c30b94",
   "metadata": {},
   "outputs": [],
   "source": []
  },
  {
   "cell_type": "code",
   "execution_count": null,
   "id": "7195d1b9-c420-4aac-b3a2-bb37084985a3",
   "metadata": {},
   "outputs": [],
   "source": []
  },
  {
   "cell_type": "code",
   "execution_count": null,
   "id": "51b0869c-aa21-485f-ae9a-b341e77f9049",
   "metadata": {},
   "outputs": [],
   "source": []
  },
  {
   "cell_type": "code",
   "execution_count": null,
   "id": "b2ed38c4-a75c-43d1-8bcd-ccfd3afbafae",
   "metadata": {},
   "outputs": [],
   "source": []
  },
  {
   "cell_type": "code",
   "execution_count": null,
   "id": "809ce70e-2ba4-44b1-9a25-95adf9d9384f",
   "metadata": {},
   "outputs": [],
   "source": []
  },
  {
   "cell_type": "code",
   "execution_count": null,
   "id": "91e3d592-dbc9-4daf-a1bd-489690ce9414",
   "metadata": {},
   "outputs": [],
   "source": []
  },
  {
   "cell_type": "code",
   "execution_count": null,
   "id": "944ddc89-d31e-4c76-974c-e0d61f61688e",
   "metadata": {},
   "outputs": [],
   "source": []
  },
  {
   "cell_type": "code",
   "execution_count": null,
   "id": "489d7969-9dfd-4fcb-b1a3-dbb1d777a65f",
   "metadata": {},
   "outputs": [],
   "source": []
  },
  {
   "cell_type": "code",
   "execution_count": null,
   "id": "ecd514fe-553b-4cb7-afff-30f2fb93e350",
   "metadata": {},
   "outputs": [],
   "source": []
  },
  {
   "cell_type": "code",
   "execution_count": null,
   "id": "d69a9926-8c02-4a71-b6ef-23c9592fd4c7",
   "metadata": {},
   "outputs": [],
   "source": []
  },
  {
   "cell_type": "code",
   "execution_count": null,
   "id": "54c2bae8-e41e-4db7-ae7a-d06347416655",
   "metadata": {},
   "outputs": [],
   "source": []
  },
  {
   "cell_type": "code",
   "execution_count": null,
   "id": "ab0efd17-ea2a-41e0-bfa6-5dd5cbaa1d2e",
   "metadata": {},
   "outputs": [],
   "source": []
  },
  {
   "cell_type": "code",
   "execution_count": null,
   "id": "442debd5-03ad-43a2-b70b-75e4fbad9872",
   "metadata": {},
   "outputs": [],
   "source": []
  },
  {
   "cell_type": "code",
   "execution_count": null,
   "id": "980898ba-ac07-4457-ac81-babbec5f48ac",
   "metadata": {},
   "outputs": [],
   "source": []
  }
 ],
 "metadata": {
  "kernelspec": {
   "display_name": "Python 3 (ipykernel)",
   "language": "python",
   "name": "python3"
  },
  "language_info": {
   "codemirror_mode": {
    "name": "ipython",
    "version": 3
   },
   "file_extension": ".py",
   "mimetype": "text/x-python",
   "name": "python",
   "nbconvert_exporter": "python",
   "pygments_lexer": "ipython3",
   "version": "3.11.5"
  }
 },
 "nbformat": 4,
 "nbformat_minor": 5
}
